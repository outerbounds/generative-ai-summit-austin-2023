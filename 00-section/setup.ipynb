{
 "cells": [
  {
   "attachments": {},
   "cell_type": "markdown",
   "metadata": {},
   "source": [
    "# Run this in the terminal\n",
    "🚨🚨🚨 This script will delete the environments for other workspaces in your sandbox 🚨🚨🚨\n",
    "\n",
    "If you run it and have trouble rebuilding those environments, you can ask us for help in Slack! \n",
    "\n",
    "\n",
    "```bash\n",
    "bash 00-section/setup_sandbox.sh\n",
    "```"
   ]
  }
 ],
 "metadata": {
  "kernelspec": {
   "display_name": "sandbox-tutorial",
   "language": "python",
   "name": "python3"
  },
  "language_info": {
   "codemirror_mode": {
    "name": "ipython",
    "version": 3
   },
   "file_extension": ".py",
   "mimetype": "text/x-python",
   "name": "python",
   "nbconvert_exporter": "python",
   "pygments_lexer": "ipython3",
   "version": "3.10.8"
  },
  "orig_nbformat": 4
 },
 "nbformat": 4,
 "nbformat_minor": 2
}
