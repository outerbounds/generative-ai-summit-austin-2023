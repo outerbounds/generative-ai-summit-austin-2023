{
 "cells": [
  {
   "cell_type": "code",
   "execution_count": 1,
   "metadata": {},
   "outputs": [],
   "source": [
    "# 🚨🚨🚨 This script will delete the environments for other workspaces in your sandbox 🚨🚨🚨\n",
    "# If you run it and have trouble rebuilding those environments, you can ask us for help in Slack! \n",
    "! bash setup_sandbox.sh > /dev/null\n",
    "\n",
    "# Avoid running cells in other notebooks while it is still running,\n",
    "# but you can click to other lessons on the left side navigation and read and come back to this notebook and it will still be running."
   ]
  }
 ],
 "metadata": {
  "kernelspec": {
   "display_name": "sandbox-tutorial",
   "language": "python",
   "name": "python3"
  },
  "language_info": {
   "codemirror_mode": {
    "name": "ipython",
    "version": 3
   },
   "file_extension": ".py",
   "mimetype": "text/x-python",
   "name": "python",
   "nbconvert_exporter": "python",
   "pygments_lexer": "ipython3",
   "version": "3.10.12"
  },
  "orig_nbformat": 4
 },
 "nbformat": 4,
 "nbformat_minor": 2
}
